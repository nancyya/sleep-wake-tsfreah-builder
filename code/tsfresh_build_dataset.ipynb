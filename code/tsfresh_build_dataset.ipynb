{
 "cells": [
  {
   "cell_type": "markdown",
   "metadata": {},
   "source": [
    "# <font color='darkblue'> Generate sleep quantitative features from raw activity count </font>\n",
    "\n",
    "# <font color='blue'> MESA dataset</font>\n"
   ]
  },
  {
   "cell_type": "markdown",
   "metadata": {},
   "source": [
    "### Project structure as follows:\n",
    "    Teva\n",
    "        /sleep-wake\n",
    "            /code\n",
    "            /data\n",
    "                /mesa\n",
    "                    /actigraphy/\n",
    "                        mesa-sleep-0001.csv\n",
    "                        mesa-sleep-0002.csv\n",
    "                        ...\n",
    "                        \n",
    "            /tsfresh-outputs\n"
   ]
  },
  {
   "cell_type": "markdown",
   "metadata": {},
   "source": [
    "### Packages"
   ]
  },
  {
   "cell_type": "code",
   "execution_count": 1,
   "metadata": {},
   "outputs": [],
   "source": [
    "import os\n",
    "import pandas as pd\n",
    "import numpy as np\n",
    "import matplotlib.pyplot as plt\n",
    "\n",
    "# TSFRESH - for installation: run \"conda install -c conda-forge tsfresh\" \n",
    "from tsfresh import extract_features\n",
    "from tsfresh.feature_extraction import EfficientFCParameters, MinimalFCParameters"
   ]
  },
  {
   "cell_type": "markdown",
   "metadata": {},
   "source": [
    "### Set current work directory"
   ]
  },
  {
   "cell_type": "code",
   "execution_count": 2,
   "metadata": {},
   "outputs": [],
   "source": [
    "# set current actigraphy data directory\n",
    "main_dir = '/Users/nancy/PycharmProjects/Teva/sleep-wake/'\n",
    "dir = os.path.join(main_dir, 'data/mesa/actigraphy/')\n"
   ]
  },
  {
   "cell_type": "markdown",
   "metadata": {},
   "source": [
    "# Functions"
   ]
  },
  {
   "cell_type": "code",
   "execution_count": 3,
   "metadata": {},
   "outputs": [],
   "source": [
    "def read_activity_data(file_path):\n",
    "\n",
    "    try:\n",
    "        print(\"\\nReading dataset from:\", file_path)\n",
    "\n",
    "        df = pd.read_csv(file_path, sep=',', index_col=0)\n",
    "    \n",
    "        #print(df.tail(20))\n",
    "\n",
    "        return df\n",
    "    \n",
    "    except FileNotFoundError:\n",
    "        print(\"FileNotFoundError: No such file: \", file_path, \". Moving on ..\")\n",
    "        \n",
    "\n",
    "\n",
    "\n",
    "def preprocess_activity_data(df):\n",
    "    \n",
    "    df.reset_index(inplace=True)\n",
    "   \n",
    "    print(\"Reducing dataset columns - to include only relevant columns\")\n",
    "    _df = df.loc[:, ('mesaid', 'linetime', 'activity')]\n",
    "    \n",
    "    print(\"Reducing dataset rows - to include only records with activity logged\")\n",
    "    _df.dropna(subset=['activity'], inplace=True)\n",
    "    \n",
    "    print(\"Count data reduced from:\", df.shape, \"to:\", _df.shape  )\n",
    "\n",
    "    return _df\n",
    "\n",
    "\n",
    "def tsfresh_feature_extractor(activity_data, extractor_settings=None):\n",
    "    \"\"\"\n",
    "    Auto features extractor from a pandas.DataFrame containing the different time series (e.g., \"activity\")\n",
    "    \n",
    "    return: pandas.DataFrame with the calculated features \n",
    "\n",
    "\n",
    "    \"\"\"\n",
    "    \n",
    "    assert extractor_settings in [None, MinimalFCParameters(), EfficientFCParameters()], \"specified extractor_settings is not supported\"\n",
    "    \n",
    "    print(\"\\nStrating to extract features..\\nExtractor settings:\", type(extractor_settings).__name__)\n",
    "    \n",
    "    from tsfresh.utilities.dataframe_functions import roll_time_series\n",
    "\n",
    "\n",
    "    rolled_backward = roll_time_series(activity_data, \n",
    "                                              column_id='mesaid', \n",
    "                                              column_sort='linetime', \n",
    "                                              column_kind=None,\n",
    "                                              rolling_direction=360)\n",
    "\n",
    "    rolled_forward = roll_time_series(activity_data, \n",
    "                                              column_id='mesaid', \n",
    "                                              column_sort='linetime', \n",
    "                                              column_kind=None,\n",
    "                                              rolling_direction=-360)\n",
    "\n",
    "    print(rolled_backward)\n",
    "    print(rolled_forward)\n",
    "    \n",
    "    extracted_features = extract_features(activity_data, \n",
    "                                              column_id=\"mesaid\", \n",
    "                                              column_sort=\"linetime\",\n",
    "                                              default_fc_parameters=extractor_settings,\n",
    "                                              n_jobs=4)\n",
    "    print(\"Feature extraction completed! \", extracted_features.shape[1], \"features were calculated.\")\n",
    "    \n",
    "    return extracted_features\n",
    "\n",
    "\n",
    "def test_tsfresh_feature_extractor(data, extractor_settings):\n",
    "    \n",
    "    print(\"test_tsfresh_feature_extractor\")\n",
    "    \n",
    "    # work on small subset of rows \"activity_data.head(100)\"\n",
    "    \n",
    "    extracted_features = tsfresh_feature_extractor(activity_data=data.head(100), \n",
    "                                                   extractor_settings=None)\n",
    "    # take a look at the results \n",
    "    extracted_features\n",
    "    \n",
    "    return extracted_features\n",
    "\n",
    "\n",
    "def prepare_mesa_file_name_format(i):\n",
    "    \n",
    "    i = str(i).zfill(4) \n",
    "\n",
    "    # Set current file name to load and process \n",
    "    input_path = os.path.join(dir, str('mesa-sleep-' + str(i) + '.csv'))\n",
    "    \n",
    "    return input_path\n",
    "\n"
   ]
  },
  {
   "cell_type": "markdown",
   "metadata": {},
   "source": [
    "# Load raw data (activity counts) and calculate features with TSFRESH"
   ]
  },
  {
   "cell_type": "code",
   "execution_count": null,
   "metadata": {},
   "outputs": [
    {
     "name": "stdout",
     "output_type": "stream",
     "text": [
      "\n",
      "Reading dataset from: /Users/nancy/PycharmProjects/Teva/sleep-wake/data/mesa/actigraphy/mesa-sleep-0001.csv\n",
      "Reducing dataset columns - to include only relevant columns\n",
      "Reducing dataset rows - to include only records with activity logged\n",
      "Count data reduced from: (34607, 15) to: (28502, 3)\n",
      "\n",
      "Strating to extract features..\n",
      "Extractor settings: MinimalFCParameters\n"
     ]
    }
   ],
   "source": [
    "\n",
    "def main():\n",
    "    \n",
    "    \n",
    "    \"\"\"\n",
    "    The program runs on the CSV files one-by-one\n",
    "    At each iteration: load raw date, pre-process, extract features by tsfresh and save new dataset to file.\n",
    "    \n",
    "    input: CSV file -- raw activity data (actigraphy) of a given subject\n",
    "    output: CSV file -- features extracted for ALL subjects\n",
    "    \n",
    "    \"\"\"\n",
    "    \n",
    "    # settings for TSFRESH.  None / MinimalFCParameters() / EfficientFCParameters()\n",
    "    # None will generate all features (heavy computations, take longer time)\n",
    "    extractor_settings=MinimalFCParameters() \n",
    "    \n",
    "    # list of dataframes -- holding a row of features for every subject\n",
    "    data_to_write = []\n",
    "    \n",
    "    # Input file index \n",
    "    i='1'\n",
    "    # number of subjects in the study\n",
    "    n = '26' # TODO: adjust this to the relevant number\n",
    "    \n",
    "    for i in range(1, int(n)+1):\n",
    "        \n",
    "        input_path = prepare_mesa_file_name_format(i)\n",
    "\n",
    "        #Load sleep dataset - activity counts (CSV)\n",
    "        raw_data = read_activity_data(file_path=input_path)\n",
    "        \n",
    "        if raw_data is None: continue\n",
    "\n",
    "        # Pre-processing\n",
    "        activity_data = preprocess_activity_data(df=raw_data)\n",
    "\n",
    "        # TSFRESH, note to set \"extractor_settings\"\n",
    "        subject_features = tsfresh_feature_extractor(activity_data, \n",
    "                                            extractor_settings=extractor_settings)     \n",
    "        \n",
    "        # keep extracted features of the given subjects in a list of dataframs\n",
    "        data_to_write.append(subject_features)\n",
    "        \n",
    "        # iteration index -- go to next file ...\n",
    "        i = int(i) + 1\n",
    "        # -----------------------------------------------------------------\n",
    "    \n",
    "    # tranform list of dataframes into a single dataframe (i.e., the final dataset)\n",
    "    dataset = pd.concat(data_to_write)\n",
    "    # Save dataset to file \n",
    "    output_file = os.path.join(main_dir, \n",
    "                               'tsfresh-outputs', \n",
    "                               'mesa-sleep-tsfresh-features.csv')\n",
    "    dataset.to_csv(output_file)\n",
    "    print(\"\\n\\nSaving final dataset file -- dataframe with extracted features saved at:\", output_file)\n",
    "        \n",
    "        \n",
    "    return None\n",
    "\n",
    "\n",
    "if __name__ == \"__main__\":\n",
    "    main()"
   ]
  },
  {
   "cell_type": "code",
   "execution_count": null,
   "metadata": {},
   "outputs": [],
   "source": [
    "# ------------------------------------------------------------------------------------------\n",
    "# TEST\n",
    "\n",
    "#test_tsfresh_feature_extractor(data=activity_data, extractor_settings=MinimalFCParameters())"
   ]
  }
 ],
 "metadata": {
  "kernelspec": {
   "display_name": "Python 3",
   "language": "python",
   "name": "python3"
  },
  "language_info": {
   "codemirror_mode": {
    "name": "ipython",
    "version": 3
   },
   "file_extension": ".py",
   "mimetype": "text/x-python",
   "name": "python",
   "nbconvert_exporter": "python",
   "pygments_lexer": "ipython3",
   "version": "3.7.3"
  }
 },
 "nbformat": 4,
 "nbformat_minor": 4
}
